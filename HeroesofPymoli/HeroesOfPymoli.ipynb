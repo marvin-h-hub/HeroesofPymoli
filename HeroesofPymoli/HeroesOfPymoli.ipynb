{
 "cells": [
  {
   "cell_type": "markdown",
   "metadata": {},
   "source": [
    "### Note\n",
    "* Instructions have been included for each segment. You do not have to follow them exactly, but they are included to help you think through the steps."
   ]
  },
  {
   "cell_type": "code",
   "execution_count": 1,
   "metadata": {},
   "outputs": [
    {
     "data": {
      "text/html": [
       "<div>\n",
       "<style scoped>\n",
       "    .dataframe tbody tr th:only-of-type {\n",
       "        vertical-align: middle;\n",
       "    }\n",
       "\n",
       "    .dataframe tbody tr th {\n",
       "        vertical-align: top;\n",
       "    }\n",
       "\n",
       "    .dataframe thead th {\n",
       "        text-align: right;\n",
       "    }\n",
       "</style>\n",
       "<table border=\"1\" class=\"dataframe\">\n",
       "  <thead>\n",
       "    <tr style=\"text-align: right;\">\n",
       "      <th></th>\n",
       "      <th>Purchase ID</th>\n",
       "      <th>SN</th>\n",
       "      <th>Age</th>\n",
       "      <th>Gender</th>\n",
       "      <th>Item ID</th>\n",
       "      <th>Item Name</th>\n",
       "      <th>Price</th>\n",
       "    </tr>\n",
       "  </thead>\n",
       "  <tbody>\n",
       "    <tr>\n",
       "      <th>0</th>\n",
       "      <td>0</td>\n",
       "      <td>Lisim78</td>\n",
       "      <td>20</td>\n",
       "      <td>Male</td>\n",
       "      <td>108</td>\n",
       "      <td>Extraction, Quickblade Of Trembling Hands</td>\n",
       "      <td>3.53</td>\n",
       "    </tr>\n",
       "    <tr>\n",
       "      <th>1</th>\n",
       "      <td>1</td>\n",
       "      <td>Lisovynya38</td>\n",
       "      <td>40</td>\n",
       "      <td>Male</td>\n",
       "      <td>143</td>\n",
       "      <td>Frenzied Scimitar</td>\n",
       "      <td>1.56</td>\n",
       "    </tr>\n",
       "    <tr>\n",
       "      <th>2</th>\n",
       "      <td>2</td>\n",
       "      <td>Ithergue48</td>\n",
       "      <td>24</td>\n",
       "      <td>Male</td>\n",
       "      <td>92</td>\n",
       "      <td>Final Critic</td>\n",
       "      <td>4.88</td>\n",
       "    </tr>\n",
       "    <tr>\n",
       "      <th>3</th>\n",
       "      <td>3</td>\n",
       "      <td>Chamassasya86</td>\n",
       "      <td>24</td>\n",
       "      <td>Male</td>\n",
       "      <td>100</td>\n",
       "      <td>Blindscythe</td>\n",
       "      <td>3.27</td>\n",
       "    </tr>\n",
       "    <tr>\n",
       "      <th>4</th>\n",
       "      <td>4</td>\n",
       "      <td>Iskosia90</td>\n",
       "      <td>23</td>\n",
       "      <td>Male</td>\n",
       "      <td>131</td>\n",
       "      <td>Fury</td>\n",
       "      <td>1.44</td>\n",
       "    </tr>\n",
       "  </tbody>\n",
       "</table>\n",
       "</div>"
      ],
      "text/plain": [
       "   Purchase ID             SN  Age Gender  Item ID  \\\n",
       "0            0        Lisim78   20   Male      108   \n",
       "1            1    Lisovynya38   40   Male      143   \n",
       "2            2     Ithergue48   24   Male       92   \n",
       "3            3  Chamassasya86   24   Male      100   \n",
       "4            4      Iskosia90   23   Male      131   \n",
       "\n",
       "                                   Item Name  Price  \n",
       "0  Extraction, Quickblade Of Trembling Hands   3.53  \n",
       "1                          Frenzied Scimitar   1.56  \n",
       "2                               Final Critic   4.88  \n",
       "3                                Blindscythe   3.27  \n",
       "4                                       Fury   1.44  "
      ]
     },
     "execution_count": 1,
     "metadata": {},
     "output_type": "execute_result"
    }
   ],
   "source": [
    "# Dependencies and Setup\n",
    "import pandas as pd\n",
    "\n",
    "# File to Load (Remember to Change These)\n",
    "file = \"Resources/purchase_data.csv\"\n",
    "\n",
    "# Read Purchasing File and store into Pandas data frame\n",
    "df = pd.read_csv(file)\n",
    "df.head()"
   ]
  },
  {
   "cell_type": "markdown",
   "metadata": {},
   "source": [
    "## Player Count"
   ]
  },
  {
   "cell_type": "markdown",
   "metadata": {},
   "source": [
    "* Display the total number of players\n"
   ]
  },
  {
   "cell_type": "code",
   "execution_count": 2,
   "metadata": {},
   "outputs": [
    {
     "data": {
      "text/html": [
       "<div>\n",
       "<style scoped>\n",
       "    .dataframe tbody tr th:only-of-type {\n",
       "        vertical-align: middle;\n",
       "    }\n",
       "\n",
       "    .dataframe tbody tr th {\n",
       "        vertical-align: top;\n",
       "    }\n",
       "\n",
       "    .dataframe thead th {\n",
       "        text-align: right;\n",
       "    }\n",
       "</style>\n",
       "<table border=\"1\" class=\"dataframe\">\n",
       "  <thead>\n",
       "    <tr style=\"text-align: right;\">\n",
       "      <th></th>\n",
       "      <th>Total Players</th>\n",
       "    </tr>\n",
       "  </thead>\n",
       "  <tbody>\n",
       "    <tr>\n",
       "      <th>0</th>\n",
       "      <td>576</td>\n",
       "    </tr>\n",
       "  </tbody>\n",
       "</table>\n",
       "</div>"
      ],
      "text/plain": [
       "   Total Players\n",
       "0            576"
      ]
     },
     "execution_count": 2,
     "metadata": {},
     "output_type": "execute_result"
    }
   ],
   "source": [
    "total_p = len(df['SN'].unique())\n",
    "Num_Players = pd.DataFrame({\"Total Players\": [total_p]})\n",
    "Num_Players"
   ]
  },
  {
   "cell_type": "markdown",
   "metadata": {},
   "source": [
    "## Purchasing Analysis (Total)"
   ]
  },
  {
   "cell_type": "markdown",
   "metadata": {},
   "source": [
    "* Run basic calculations to obtain number of unique items, average price, etc.\n",
    "\n",
    "\n",
    "* Create a summary data frame to hold the results\n",
    "\n",
    "\n",
    "* Optional: give the displayed data cleaner formatting\n",
    "\n",
    "\n",
    "* Display the summary data frame\n"
   ]
  },
  {
   "cell_type": "code",
   "execution_count": 3,
   "metadata": {
    "scrolled": true
   },
   "outputs": [
    {
     "data": {
      "text/html": [
       "<style  type=\"text/css\" >\n",
       "</style><table id=\"T_42b61f48_92e1_11ea_a5ce_dc4a3eeef386\" ><thead>    <tr>        <th class=\"blank level0\" ></th>        <th class=\"col_heading level0 col0\" >Number of Unique Items</th>        <th class=\"col_heading level0 col1\" >Average Price</th>        <th class=\"col_heading level0 col2\" >Number of Purchases</th>        <th class=\"col_heading level0 col3\" >Total Revenue</th>    </tr></thead><tbody>\n",
       "                <tr>\n",
       "                        <th id=\"T_42b61f48_92e1_11ea_a5ce_dc4a3eeef386level0_row0\" class=\"row_heading level0 row0\" >0</th>\n",
       "                        <td id=\"T_42b61f48_92e1_11ea_a5ce_dc4a3eeef386row0_col0\" class=\"data row0 col0\" >183</td>\n",
       "                        <td id=\"T_42b61f48_92e1_11ea_a5ce_dc4a3eeef386row0_col1\" class=\"data row0 col1\" >$3.05</td>\n",
       "                        <td id=\"T_42b61f48_92e1_11ea_a5ce_dc4a3eeef386row0_col2\" class=\"data row0 col2\" >780</td>\n",
       "                        <td id=\"T_42b61f48_92e1_11ea_a5ce_dc4a3eeef386row0_col3\" class=\"data row0 col3\" >$2,379.77</td>\n",
       "            </tr>\n",
       "    </tbody></table>"
      ],
      "text/plain": [
       "<pandas.io.formats.style.Styler at 0x16089a773c8>"
      ]
     },
     "execution_count": 3,
     "metadata": {},
     "output_type": "execute_result"
    }
   ],
   "source": [
    "num_unique = len(df['Item ID'].unique())\n",
    "avg_price = df['Price'].mean()\n",
    "num_purchase = df['Purchase ID'].count()\n",
    "total_rev = df['Price'].sum()\n",
    "\n",
    "Summary_1= pd.DataFrame({\"Number of Unique Items\": [num_unique],\n",
    "                        \"Average Price\" : avg_price,\n",
    "                         \"Number of Purchases\" : num_purchase,\n",
    "                         \"Total Revenue\" : total_rev\n",
    "                        })\n",
    "\n",
    "format_dict = {'Average Price':'${:,.2f}','Total Revenue':'${:,.2f}'}\n",
    "Summary_1.style.format(format_dict)"
   ]
  },
  {
   "cell_type": "markdown",
   "metadata": {},
   "source": [
    "## Gender Demographics"
   ]
  },
  {
   "cell_type": "markdown",
   "metadata": {},
   "source": [
    "* Percentage and Count of Male Players\n",
    "\n",
    "\n",
    "* Percentage and Count of Female Players\n",
    "\n",
    "\n",
    "* Percentage and Count of Other / Non-Disclosed\n",
    "\n",
    "\n"
   ]
  },
  {
   "cell_type": "code",
   "execution_count": 4,
   "metadata": {},
   "outputs": [
    {
     "data": {
      "text/plain": [
       "array(['Male', 'Other / Non-Disclosed', 'Female'], dtype=object)"
      ]
     },
     "execution_count": 4,
     "metadata": {},
     "output_type": "execute_result"
    }
   ],
   "source": [
    "#FIND unique gender\n",
    "uniq_gen = df[\"Gender\"].unique()\n",
    "uniq_gen"
   ]
  },
  {
   "cell_type": "code",
   "execution_count": 5,
   "metadata": {},
   "outputs": [
    {
     "data": {
      "text/html": [
       "<style  type=\"text/css\" >\n",
       "</style><table id=\"T_4a072c9c_92e1_11ea_a3eb_dc4a3eeef386\" ><thead>    <tr>        <th class=\"blank level0\" ></th>        <th class=\"col_heading level0 col0\" >Total Counts</th>        <th class=\"col_heading level0 col1\" >Percentage of Players</th>    </tr></thead><tbody>\n",
       "                <tr>\n",
       "                        <th id=\"T_4a072c9c_92e1_11ea_a3eb_dc4a3eeef386level0_row0\" class=\"row_heading level0 row0\" >Female</th>\n",
       "                        <td id=\"T_4a072c9c_92e1_11ea_a3eb_dc4a3eeef386row0_col0\" class=\"data row0 col0\" >81</td>\n",
       "                        <td id=\"T_4a072c9c_92e1_11ea_a3eb_dc4a3eeef386row0_col1\" class=\"data row0 col1\" >14.06%</td>\n",
       "            </tr>\n",
       "            <tr>\n",
       "                        <th id=\"T_4a072c9c_92e1_11ea_a3eb_dc4a3eeef386level0_row1\" class=\"row_heading level0 row1\" >Male</th>\n",
       "                        <td id=\"T_4a072c9c_92e1_11ea_a3eb_dc4a3eeef386row1_col0\" class=\"data row1 col0\" >484</td>\n",
       "                        <td id=\"T_4a072c9c_92e1_11ea_a3eb_dc4a3eeef386row1_col1\" class=\"data row1 col1\" >84.03%</td>\n",
       "            </tr>\n",
       "            <tr>\n",
       "                        <th id=\"T_4a072c9c_92e1_11ea_a3eb_dc4a3eeef386level0_row2\" class=\"row_heading level0 row2\" >Other / Non-Disclosed</th>\n",
       "                        <td id=\"T_4a072c9c_92e1_11ea_a3eb_dc4a3eeef386row2_col0\" class=\"data row2 col0\" >11</td>\n",
       "                        <td id=\"T_4a072c9c_92e1_11ea_a3eb_dc4a3eeef386row2_col1\" class=\"data row2 col1\" >1.91%</td>\n",
       "            </tr>\n",
       "    </tbody></table>"
      ],
      "text/plain": [
       "<pandas.io.formats.style.Styler at 0x16089a5fec8>"
      ]
     },
     "execution_count": 5,
     "metadata": {},
     "output_type": "execute_result"
    }
   ],
   "source": [
    "Male = df.loc[df[\"Gender\"] == \"Male\" ,\"SN\"]\n",
    "Male_uniq = len(Male.value_counts())\n",
    "M_Per = Male_uniq / total_p\n",
    "\n",
    "Female = df.loc[df[\"Gender\"] == \"Female\" ,\"SN\"]\n",
    "Female_uniq = len(Female.value_counts())\n",
    "F_Per = Female_uniq / total_p \n",
    "\n",
    "Other = df.loc[df[\"Gender\"] == \"Other / Non-Disclosed\", \"SN\"]\n",
    "Other_uniq = len(Other.value_counts())\n",
    "O_Per = Other_uniq / total_p \n",
    "\n",
    "gender_summary_table = pd.DataFrame([[Female_uniq, F_Per],[Male_uniq, M_Per],[Other_uniq, O_Per]],\n",
    "     index=['Female','Male', 'Other / Non-Disclosed'],\n",
    "     columns=['Total Counts', 'Percentage of Players'])\n",
    "\n",
    "format_dict = {'Percentage of Players':'{:,.2%}'}\n",
    "\n",
    "gender_summary_table.style.format(format_dict)"
   ]
  },
  {
   "cell_type": "markdown",
   "metadata": {},
   "source": [
    "\n",
    "## Purchasing Analysis (Gender)"
   ]
  },
  {
   "cell_type": "markdown",
   "metadata": {},
   "source": [
    "* Run basic calculations to obtain purchase count, avg. purchase price, avg. purchase total per person etc. by gender\n",
    "\n",
    "\n",
    "\n",
    "\n",
    "* Create a summary data frame to hold the results\n",
    "\n",
    "\n",
    "* Optional: give the displayed data cleaner formatting\n",
    "\n",
    "\n",
    "* Display the summary data frame"
   ]
  },
  {
   "cell_type": "code",
   "execution_count": 6,
   "metadata": {},
   "outputs": [
    {
     "data": {
      "text/html": [
       "<style  type=\"text/css\" >\n",
       "</style><table id=\"T_4e6b6d80_92e1_11ea_a2b8_dc4a3eeef386\" ><thead>    <tr>        <th class=\"blank level0\" ></th>        <th class=\"col_heading level0 col0\" >Purchase Count</th>        <th class=\"col_heading level0 col1\" >Average Purchase Price</th>        <th class=\"col_heading level0 col2\" >Total Purchase Value</th>        <th class=\"col_heading level0 col3\" >Avg Total Purchase per Person</th>    </tr>    <tr>        <th class=\"index_name level0\" >Gender</th>        <th class=\"blank\" ></th>        <th class=\"blank\" ></th>        <th class=\"blank\" ></th>        <th class=\"blank\" ></th>    </tr></thead><tbody>\n",
       "                <tr>\n",
       "                        <th id=\"T_4e6b6d80_92e1_11ea_a2b8_dc4a3eeef386level0_row0\" class=\"row_heading level0 row0\" >Female</th>\n",
       "                        <td id=\"T_4e6b6d80_92e1_11ea_a2b8_dc4a3eeef386row0_col0\" class=\"data row0 col0\" >113</td>\n",
       "                        <td id=\"T_4e6b6d80_92e1_11ea_a2b8_dc4a3eeef386row0_col1\" class=\"data row0 col1\" >$3.20</td>\n",
       "                        <td id=\"T_4e6b6d80_92e1_11ea_a2b8_dc4a3eeef386row0_col2\" class=\"data row0 col2\" >$361.94</td>\n",
       "                        <td id=\"T_4e6b6d80_92e1_11ea_a2b8_dc4a3eeef386row0_col3\" class=\"data row0 col3\" >$4.47</td>\n",
       "            </tr>\n",
       "            <tr>\n",
       "                        <th id=\"T_4e6b6d80_92e1_11ea_a2b8_dc4a3eeef386level0_row1\" class=\"row_heading level0 row1\" >Male</th>\n",
       "                        <td id=\"T_4e6b6d80_92e1_11ea_a2b8_dc4a3eeef386row1_col0\" class=\"data row1 col0\" >652</td>\n",
       "                        <td id=\"T_4e6b6d80_92e1_11ea_a2b8_dc4a3eeef386row1_col1\" class=\"data row1 col1\" >$3.02</td>\n",
       "                        <td id=\"T_4e6b6d80_92e1_11ea_a2b8_dc4a3eeef386row1_col2\" class=\"data row1 col2\" >$1,967.64</td>\n",
       "                        <td id=\"T_4e6b6d80_92e1_11ea_a2b8_dc4a3eeef386row1_col3\" class=\"data row1 col3\" >$4.07</td>\n",
       "            </tr>\n",
       "            <tr>\n",
       "                        <th id=\"T_4e6b6d80_92e1_11ea_a2b8_dc4a3eeef386level0_row2\" class=\"row_heading level0 row2\" >Other / Non-Disclosed</th>\n",
       "                        <td id=\"T_4e6b6d80_92e1_11ea_a2b8_dc4a3eeef386row2_col0\" class=\"data row2 col0\" >15</td>\n",
       "                        <td id=\"T_4e6b6d80_92e1_11ea_a2b8_dc4a3eeef386row2_col1\" class=\"data row2 col1\" >$3.35</td>\n",
       "                        <td id=\"T_4e6b6d80_92e1_11ea_a2b8_dc4a3eeef386row2_col2\" class=\"data row2 col2\" >$50.19</td>\n",
       "                        <td id=\"T_4e6b6d80_92e1_11ea_a2b8_dc4a3eeef386row2_col3\" class=\"data row2 col3\" >$4.56</td>\n",
       "            </tr>\n",
       "    </tbody></table>"
      ],
      "text/plain": [
       "<pandas.io.formats.style.Styler at 0x1608a83ea08>"
      ]
     },
     "execution_count": 6,
     "metadata": {},
     "output_type": "execute_result"
    }
   ],
   "source": [
    "grp_gen = df.groupby(['Gender'])\n",
    "\n",
    "total_purchase = grp_gen['Purchase ID'].count()\n",
    "avg_purchase = grp_gen['Price'].mean()\n",
    "total_value = grp_gen['Price'].sum()\n",
    "avg_total = [value for value in total_value]/gender_summary_table['Total Counts']\n",
    "\n",
    "purchasing_summary_tbl = pd.DataFrame({\"Purchase Count\" : total_purchase,\n",
    "                                       \"Average Purchase Price\":avg_purchase,\n",
    "                                      \"Total Purchase Value\":total_value,\n",
    "                                      \"Avg Total Purchase per Person\":avg_total})\n",
    "\n",
    "format_dict = {'Average Purchase Price':'${:,.2f}','Total Purchase Value':'${:,.2f}','Avg Total Purchase per Person':'${:,.2f}'}\n",
    "\n",
    "purchasing_summary_tbl.style.format(format_dict)"
   ]
  },
  {
   "cell_type": "markdown",
   "metadata": {},
   "source": [
    "## Age Demographics"
   ]
  },
  {
   "cell_type": "markdown",
   "metadata": {},
   "source": [
    "* Establish bins for ages\n",
    "\n",
    "\n",
    "* Categorize the existing players using the age bins. Hint: use pd.cut()\n",
    "\n",
    "\n",
    "* Calculate the numbers and percentages by age group\n",
    "\n",
    "\n",
    "* Create a summary data frame to hold the results\n",
    "\n",
    "\n",
    "* Optional: round the percentage column to two decimal points\n",
    "\n",
    "\n",
    "* Display Age Demographics Table\n"
   ]
  },
  {
   "cell_type": "code",
   "execution_count": 8,
   "metadata": {},
   "outputs": [
    {
     "data": {
      "text/html": [
       "<style  type=\"text/css\" >\n",
       "</style><table id=\"T_68e1bff8_92e1_11ea_979c_dc4a3eeef386\" ><thead>    <tr>        <th class=\"blank level0\" ></th>        <th class=\"col_heading level0 col0\" >Total Count</th>        <th class=\"col_heading level0 col1\" >Percentage of Players</th>    </tr>    <tr>        <th class=\"index_name level0\" >Age_group</th>        <th class=\"blank\" ></th>        <th class=\"blank\" ></th>    </tr></thead><tbody>\n",
       "                <tr>\n",
       "                        <th id=\"T_68e1bff8_92e1_11ea_979c_dc4a3eeef386level0_row0\" class=\"row_heading level0 row0\" ><10</th>\n",
       "                        <td id=\"T_68e1bff8_92e1_11ea_979c_dc4a3eeef386row0_col0\" class=\"data row0 col0\" >17</td>\n",
       "                        <td id=\"T_68e1bff8_92e1_11ea_979c_dc4a3eeef386row0_col1\" class=\"data row0 col1\" >2.95%</td>\n",
       "            </tr>\n",
       "            <tr>\n",
       "                        <th id=\"T_68e1bff8_92e1_11ea_979c_dc4a3eeef386level0_row1\" class=\"row_heading level0 row1\" >10-14</th>\n",
       "                        <td id=\"T_68e1bff8_92e1_11ea_979c_dc4a3eeef386row1_col0\" class=\"data row1 col0\" >22</td>\n",
       "                        <td id=\"T_68e1bff8_92e1_11ea_979c_dc4a3eeef386row1_col1\" class=\"data row1 col1\" >3.82%</td>\n",
       "            </tr>\n",
       "            <tr>\n",
       "                        <th id=\"T_68e1bff8_92e1_11ea_979c_dc4a3eeef386level0_row2\" class=\"row_heading level0 row2\" >14-19</th>\n",
       "                        <td id=\"T_68e1bff8_92e1_11ea_979c_dc4a3eeef386row2_col0\" class=\"data row2 col0\" >107</td>\n",
       "                        <td id=\"T_68e1bff8_92e1_11ea_979c_dc4a3eeef386row2_col1\" class=\"data row2 col1\" >18.58%</td>\n",
       "            </tr>\n",
       "            <tr>\n",
       "                        <th id=\"T_68e1bff8_92e1_11ea_979c_dc4a3eeef386level0_row3\" class=\"row_heading level0 row3\" >20-24</th>\n",
       "                        <td id=\"T_68e1bff8_92e1_11ea_979c_dc4a3eeef386row3_col0\" class=\"data row3 col0\" >258</td>\n",
       "                        <td id=\"T_68e1bff8_92e1_11ea_979c_dc4a3eeef386row3_col1\" class=\"data row3 col1\" >44.79%</td>\n",
       "            </tr>\n",
       "            <tr>\n",
       "                        <th id=\"T_68e1bff8_92e1_11ea_979c_dc4a3eeef386level0_row4\" class=\"row_heading level0 row4\" >25-29</th>\n",
       "                        <td id=\"T_68e1bff8_92e1_11ea_979c_dc4a3eeef386row4_col0\" class=\"data row4 col0\" >77</td>\n",
       "                        <td id=\"T_68e1bff8_92e1_11ea_979c_dc4a3eeef386row4_col1\" class=\"data row4 col1\" >13.37%</td>\n",
       "            </tr>\n",
       "            <tr>\n",
       "                        <th id=\"T_68e1bff8_92e1_11ea_979c_dc4a3eeef386level0_row5\" class=\"row_heading level0 row5\" >30-35</th>\n",
       "                        <td id=\"T_68e1bff8_92e1_11ea_979c_dc4a3eeef386row5_col0\" class=\"data row5 col0\" >52</td>\n",
       "                        <td id=\"T_68e1bff8_92e1_11ea_979c_dc4a3eeef386row5_col1\" class=\"data row5 col1\" >9.03%</td>\n",
       "            </tr>\n",
       "            <tr>\n",
       "                        <th id=\"T_68e1bff8_92e1_11ea_979c_dc4a3eeef386level0_row6\" class=\"row_heading level0 row6\" >36-40</th>\n",
       "                        <td id=\"T_68e1bff8_92e1_11ea_979c_dc4a3eeef386row6_col0\" class=\"data row6 col0\" >31</td>\n",
       "                        <td id=\"T_68e1bff8_92e1_11ea_979c_dc4a3eeef386row6_col1\" class=\"data row6 col1\" >5.38%</td>\n",
       "            </tr>\n",
       "            <tr>\n",
       "                        <th id=\"T_68e1bff8_92e1_11ea_979c_dc4a3eeef386level0_row7\" class=\"row_heading level0 row7\" >40+</th>\n",
       "                        <td id=\"T_68e1bff8_92e1_11ea_979c_dc4a3eeef386row7_col0\" class=\"data row7 col0\" >12</td>\n",
       "                        <td id=\"T_68e1bff8_92e1_11ea_979c_dc4a3eeef386row7_col1\" class=\"data row7 col1\" >2.08%</td>\n",
       "            </tr>\n",
       "    </tbody></table>"
      ],
      "text/plain": [
       "<pandas.io.formats.style.Styler at 0x1608a8e7b48>"
      ]
     },
     "execution_count": 8,
     "metadata": {},
     "output_type": "execute_result"
    }
   ],
   "source": [
    "bins = [0, 9, 14, 19, 24, 29, 34, 39, max(df['Age'])]\n",
    "\n",
    "group_names = [\"<10\", \"10-14\", \"14-19\", \"20-24\", \"25-29\", \"30-35\",\n",
    "              \"36-40\", \"40+\"]\n",
    "\n",
    "df[\"Age_group\"] = pd.cut(df[\"Age\"], bins, labels=group_names)\n",
    "df[\"Age_group\"]\n",
    "\n",
    "age_df = df.groupby(\"Age_group\")\n",
    "\n",
    "total_count = age_df['SN'].nunique()\n",
    "percent_player = total_count / total_p\n",
    "\n",
    "age_summary_tbl = pd.DataFrame({\"Total Count\" : total_count,\n",
    "                                  \"Percentage of Players\" : percent_player\n",
    "                                 })\n",
    "\n",
    "format_dict = {'Percentage of Players':'{:,.2%}'}\n",
    "\n",
    "age_summary_tbl.style.format(format_dict)"
   ]
  },
  {
   "cell_type": "markdown",
   "metadata": {},
   "source": [
    "## Purchasing Analysis (Age)"
   ]
  },
  {
   "cell_type": "markdown",
   "metadata": {},
   "source": [
    "* Bin the purchase_data data frame by age\n",
    "\n",
    "\n",
    "* Run basic calculations to obtain purchase count, avg. purchase price, avg. purchase total per person etc. in the table below\n",
    "\n",
    "\n",
    "* Create a summary data frame to hold the results\n",
    "\n",
    "\n",
    "* Optional: give the displayed data cleaner formatting\n",
    "\n",
    "\n",
    "* Display the summary data frame"
   ]
  },
  {
   "cell_type": "code",
   "execution_count": 9,
   "metadata": {},
   "outputs": [
    {
     "data": {
      "text/html": [
       "<style  type=\"text/css\" >\n",
       "</style><table id=\"T_6c2b32ae_92e1_11ea_9bf6_dc4a3eeef386\" ><thead>    <tr>        <th class=\"blank level0\" ></th>        <th class=\"col_heading level0 col0\" >Purchase Count</th>        <th class=\"col_heading level0 col1\" >Average Purchase Price</th>        <th class=\"col_heading level0 col2\" >Total Purchase Value</th>        <th class=\"col_heading level0 col3\" >Avg Total Purchase per Person</th>    </tr>    <tr>        <th class=\"index_name level0\" >Age_group</th>        <th class=\"blank\" ></th>        <th class=\"blank\" ></th>        <th class=\"blank\" ></th>        <th class=\"blank\" ></th>    </tr></thead><tbody>\n",
       "                <tr>\n",
       "                        <th id=\"T_6c2b32ae_92e1_11ea_9bf6_dc4a3eeef386level0_row0\" class=\"row_heading level0 row0\" ><10</th>\n",
       "                        <td id=\"T_6c2b32ae_92e1_11ea_9bf6_dc4a3eeef386row0_col0\" class=\"data row0 col0\" >23</td>\n",
       "                        <td id=\"T_6c2b32ae_92e1_11ea_9bf6_dc4a3eeef386row0_col1\" class=\"data row0 col1\" >$3.35</td>\n",
       "                        <td id=\"T_6c2b32ae_92e1_11ea_9bf6_dc4a3eeef386row0_col2\" class=\"data row0 col2\" >$77.13</td>\n",
       "                        <td id=\"T_6c2b32ae_92e1_11ea_9bf6_dc4a3eeef386row0_col3\" class=\"data row0 col3\" >$4.54</td>\n",
       "            </tr>\n",
       "            <tr>\n",
       "                        <th id=\"T_6c2b32ae_92e1_11ea_9bf6_dc4a3eeef386level0_row1\" class=\"row_heading level0 row1\" >10-14</th>\n",
       "                        <td id=\"T_6c2b32ae_92e1_11ea_9bf6_dc4a3eeef386row1_col0\" class=\"data row1 col0\" >28</td>\n",
       "                        <td id=\"T_6c2b32ae_92e1_11ea_9bf6_dc4a3eeef386row1_col1\" class=\"data row1 col1\" >$2.96</td>\n",
       "                        <td id=\"T_6c2b32ae_92e1_11ea_9bf6_dc4a3eeef386row1_col2\" class=\"data row1 col2\" >$82.78</td>\n",
       "                        <td id=\"T_6c2b32ae_92e1_11ea_9bf6_dc4a3eeef386row1_col3\" class=\"data row1 col3\" >$3.76</td>\n",
       "            </tr>\n",
       "            <tr>\n",
       "                        <th id=\"T_6c2b32ae_92e1_11ea_9bf6_dc4a3eeef386level0_row2\" class=\"row_heading level0 row2\" >14-19</th>\n",
       "                        <td id=\"T_6c2b32ae_92e1_11ea_9bf6_dc4a3eeef386row2_col0\" class=\"data row2 col0\" >136</td>\n",
       "                        <td id=\"T_6c2b32ae_92e1_11ea_9bf6_dc4a3eeef386row2_col1\" class=\"data row2 col1\" >$3.04</td>\n",
       "                        <td id=\"T_6c2b32ae_92e1_11ea_9bf6_dc4a3eeef386row2_col2\" class=\"data row2 col2\" >$412.89</td>\n",
       "                        <td id=\"T_6c2b32ae_92e1_11ea_9bf6_dc4a3eeef386row2_col3\" class=\"data row2 col3\" >$3.86</td>\n",
       "            </tr>\n",
       "            <tr>\n",
       "                        <th id=\"T_6c2b32ae_92e1_11ea_9bf6_dc4a3eeef386level0_row3\" class=\"row_heading level0 row3\" >20-24</th>\n",
       "                        <td id=\"T_6c2b32ae_92e1_11ea_9bf6_dc4a3eeef386row3_col0\" class=\"data row3 col0\" >365</td>\n",
       "                        <td id=\"T_6c2b32ae_92e1_11ea_9bf6_dc4a3eeef386row3_col1\" class=\"data row3 col1\" >$3.05</td>\n",
       "                        <td id=\"T_6c2b32ae_92e1_11ea_9bf6_dc4a3eeef386row3_col2\" class=\"data row3 col2\" >$1,114.06</td>\n",
       "                        <td id=\"T_6c2b32ae_92e1_11ea_9bf6_dc4a3eeef386row3_col3\" class=\"data row3 col3\" >$4.32</td>\n",
       "            </tr>\n",
       "            <tr>\n",
       "                        <th id=\"T_6c2b32ae_92e1_11ea_9bf6_dc4a3eeef386level0_row4\" class=\"row_heading level0 row4\" >25-29</th>\n",
       "                        <td id=\"T_6c2b32ae_92e1_11ea_9bf6_dc4a3eeef386row4_col0\" class=\"data row4 col0\" >101</td>\n",
       "                        <td id=\"T_6c2b32ae_92e1_11ea_9bf6_dc4a3eeef386row4_col1\" class=\"data row4 col1\" >$2.90</td>\n",
       "                        <td id=\"T_6c2b32ae_92e1_11ea_9bf6_dc4a3eeef386row4_col2\" class=\"data row4 col2\" >$293.00</td>\n",
       "                        <td id=\"T_6c2b32ae_92e1_11ea_9bf6_dc4a3eeef386row4_col3\" class=\"data row4 col3\" >$3.81</td>\n",
       "            </tr>\n",
       "            <tr>\n",
       "                        <th id=\"T_6c2b32ae_92e1_11ea_9bf6_dc4a3eeef386level0_row5\" class=\"row_heading level0 row5\" >30-35</th>\n",
       "                        <td id=\"T_6c2b32ae_92e1_11ea_9bf6_dc4a3eeef386row5_col0\" class=\"data row5 col0\" >73</td>\n",
       "                        <td id=\"T_6c2b32ae_92e1_11ea_9bf6_dc4a3eeef386row5_col1\" class=\"data row5 col1\" >$2.93</td>\n",
       "                        <td id=\"T_6c2b32ae_92e1_11ea_9bf6_dc4a3eeef386row5_col2\" class=\"data row5 col2\" >$214.00</td>\n",
       "                        <td id=\"T_6c2b32ae_92e1_11ea_9bf6_dc4a3eeef386row5_col3\" class=\"data row5 col3\" >$4.12</td>\n",
       "            </tr>\n",
       "            <tr>\n",
       "                        <th id=\"T_6c2b32ae_92e1_11ea_9bf6_dc4a3eeef386level0_row6\" class=\"row_heading level0 row6\" >36-40</th>\n",
       "                        <td id=\"T_6c2b32ae_92e1_11ea_9bf6_dc4a3eeef386row6_col0\" class=\"data row6 col0\" >41</td>\n",
       "                        <td id=\"T_6c2b32ae_92e1_11ea_9bf6_dc4a3eeef386row6_col1\" class=\"data row6 col1\" >$3.60</td>\n",
       "                        <td id=\"T_6c2b32ae_92e1_11ea_9bf6_dc4a3eeef386row6_col2\" class=\"data row6 col2\" >$147.67</td>\n",
       "                        <td id=\"T_6c2b32ae_92e1_11ea_9bf6_dc4a3eeef386row6_col3\" class=\"data row6 col3\" >$4.76</td>\n",
       "            </tr>\n",
       "            <tr>\n",
       "                        <th id=\"T_6c2b32ae_92e1_11ea_9bf6_dc4a3eeef386level0_row7\" class=\"row_heading level0 row7\" >40+</th>\n",
       "                        <td id=\"T_6c2b32ae_92e1_11ea_9bf6_dc4a3eeef386row7_col0\" class=\"data row7 col0\" >13</td>\n",
       "                        <td id=\"T_6c2b32ae_92e1_11ea_9bf6_dc4a3eeef386row7_col1\" class=\"data row7 col1\" >$2.94</td>\n",
       "                        <td id=\"T_6c2b32ae_92e1_11ea_9bf6_dc4a3eeef386row7_col2\" class=\"data row7 col2\" >$38.24</td>\n",
       "                        <td id=\"T_6c2b32ae_92e1_11ea_9bf6_dc4a3eeef386row7_col3\" class=\"data row7 col3\" >$3.19</td>\n",
       "            </tr>\n",
       "    </tbody></table>"
      ],
      "text/plain": [
       "<pandas.io.formats.style.Styler at 0x1608a820a48>"
      ]
     },
     "execution_count": 9,
     "metadata": {},
     "output_type": "execute_result"
    }
   ],
   "source": [
    "pur_count = age_df['Purchase ID'].nunique()\n",
    "total_pur = age_df['Price'].sum()\n",
    "avg_pur_price = (total_pur / pur_count)\n",
    "avg_total_per_person = (total_pur / total_count)\n",
    "purch_summary_tbl = pd.DataFrame({\"Purchase Count\" : pur_count,\n",
    "                                  \"Average Purchase Price\" : avg_pur_price,\n",
    "                                       \"Total Purchase Value\": total_pur,\n",
    "                                       \"Avg Total Purchase per Person\" : avg_total_per_person\n",
    "                                 })\n",
    "\n",
    "format_dict = {'Average Purchase Price':'${:,.2f}','Total Purchase Value':'${:,.2f}','Avg Total Purchase per Person':'${:,.2f}'}\n",
    "\n",
    "purch_summary_tbl.style.format(format_dict)"
   ]
  },
  {
   "cell_type": "markdown",
   "metadata": {},
   "source": [
    "## Top Spenders"
   ]
  },
  {
   "cell_type": "markdown",
   "metadata": {},
   "source": [
    "* Run basic calculations to obtain the results in the table below\n",
    "\n",
    "\n",
    "* Create a summary data frame to hold the results\n",
    "\n",
    "\n",
    "* Sort the total purchase value column in descending order\n",
    "\n",
    "\n",
    "* Optional: give the displayed data cleaner formatting\n",
    "\n",
    "\n",
    "* Display a preview of the summary data frame\n",
    "\n"
   ]
  },
  {
   "cell_type": "code",
   "execution_count": 15,
   "metadata": {},
   "outputs": [
    {
     "data": {
      "text/html": [
       "<div>\n",
       "<style scoped>\n",
       "    .dataframe tbody tr th:only-of-type {\n",
       "        vertical-align: middle;\n",
       "    }\n",
       "\n",
       "    .dataframe tbody tr th {\n",
       "        vertical-align: top;\n",
       "    }\n",
       "\n",
       "    .dataframe thead th {\n",
       "        text-align: right;\n",
       "    }\n",
       "</style>\n",
       "<table border=\"1\" class=\"dataframe\">\n",
       "  <thead>\n",
       "    <tr style=\"text-align: right;\">\n",
       "      <th></th>\n",
       "      <th>Purchase Count</th>\n",
       "      <th>Average Purchase Price</th>\n",
       "      <th>Total Purchase Value</th>\n",
       "    </tr>\n",
       "    <tr>\n",
       "      <th>SN</th>\n",
       "      <th></th>\n",
       "      <th></th>\n",
       "      <th></th>\n",
       "    </tr>\n",
       "  </thead>\n",
       "  <tbody>\n",
       "    <tr>\n",
       "      <th>Haillyrgue51</th>\n",
       "      <td>3</td>\n",
       "      <td>$3.17</td>\n",
       "      <td>$9.50</td>\n",
       "    </tr>\n",
       "    <tr>\n",
       "      <th>Phistym51</th>\n",
       "      <td>2</td>\n",
       "      <td>$4.75</td>\n",
       "      <td>$9.50</td>\n",
       "    </tr>\n",
       "    <tr>\n",
       "      <th>Lamil79</th>\n",
       "      <td>2</td>\n",
       "      <td>$4.64</td>\n",
       "      <td>$9.29</td>\n",
       "    </tr>\n",
       "    <tr>\n",
       "      <th>Aina42</th>\n",
       "      <td>3</td>\n",
       "      <td>$3.07</td>\n",
       "      <td>$9.22</td>\n",
       "    </tr>\n",
       "    <tr>\n",
       "      <th>Saesrideu94</th>\n",
       "      <td>2</td>\n",
       "      <td>$4.59</td>\n",
       "      <td>$9.18</td>\n",
       "    </tr>\n",
       "  </tbody>\n",
       "</table>\n",
       "</div>"
      ],
      "text/plain": [
       "              Purchase Count Average Purchase Price Total Purchase Value\n",
       "SN                                                                      \n",
       "Haillyrgue51               3                  $3.17                $9.50\n",
       "Phistym51                  2                  $4.75                $9.50\n",
       "Lamil79                    2                  $4.64                $9.29\n",
       "Aina42                     3                  $3.07                $9.22\n",
       "Saesrideu94                2                  $4.59                $9.18"
      ]
     },
     "execution_count": 15,
     "metadata": {},
     "output_type": "execute_result"
    }
   ],
   "source": [
    "spender_df = df.groupby(\"SN\")\n",
    "spen_pur_count = spender_df['SN'].count()\n",
    "total_spen_pur_val = spender_df['Price'].sum()\n",
    "avg_spen_pur_price = (total_spen_pur_val/spen_pur_count).astype(float).map(\"${:,.2f}\".format)\n",
    "\n",
    "top_spender = pd.DataFrame({\"Purchase Count\" : spen_pur_count,\n",
    "                                  \"Average Purchase Price\" : avg_spen_pur_price,\n",
    "                                       \"Total Purchase Value\": total_spen_pur_val.astype(float).map(\"${:,.2f}\".format),\n",
    "                                 })\n",
    "\n",
    "format_dict = {'Average Purchase Price':'${:,.2f}','Total Purchase Value':'${:,.2f}'}\n",
    "\n",
    "top_spender.style.format(format_dict)\n",
    "\n",
    "top_spender.sort_values(by='Total Purchase Value', ascending=False).head()"
   ]
  },
  {
   "cell_type": "markdown",
   "metadata": {},
   "source": [
    "## Most Popular Items"
   ]
  },
  {
   "cell_type": "markdown",
   "metadata": {},
   "source": [
    "* Retrieve the Item ID, Item Name, and Item Price columns\n",
    "\n",
    "\n",
    "* Group by Item ID and Item Name. Perform calculations to obtain purchase count, item price, and total purchase value\n",
    "\n",
    "\n",
    "* Create a summary data frame to hold the results\n",
    "\n",
    "\n",
    "* Sort the purchase count column in descending order\n",
    "\n",
    "\n",
    "* Optional: give the displayed data cleaner formatting\n",
    "\n",
    "\n",
    "* Display a preview of the summary data frame\n",
    "\n"
   ]
  },
  {
   "cell_type": "code",
   "execution_count": 16,
   "metadata": {},
   "outputs": [
    {
     "data": {
      "text/html": [
       "<div>\n",
       "<style scoped>\n",
       "    .dataframe tbody tr th:only-of-type {\n",
       "        vertical-align: middle;\n",
       "    }\n",
       "\n",
       "    .dataframe tbody tr th {\n",
       "        vertical-align: top;\n",
       "    }\n",
       "\n",
       "    .dataframe thead th {\n",
       "        text-align: right;\n",
       "    }\n",
       "</style>\n",
       "<table border=\"1\" class=\"dataframe\">\n",
       "  <thead>\n",
       "    <tr style=\"text-align: right;\">\n",
       "      <th></th>\n",
       "      <th></th>\n",
       "      <th>Purchase Count</th>\n",
       "      <th>Item Price</th>\n",
       "      <th>Total Purchase Value</th>\n",
       "    </tr>\n",
       "    <tr>\n",
       "      <th>Item ID</th>\n",
       "      <th>Item Name</th>\n",
       "      <th></th>\n",
       "      <th></th>\n",
       "      <th></th>\n",
       "    </tr>\n",
       "  </thead>\n",
       "  <tbody>\n",
       "    <tr>\n",
       "      <th>178</th>\n",
       "      <th>Oathbreaker, Last Hope of the Breaking Storm</th>\n",
       "      <td>12</td>\n",
       "      <td>$4.23</td>\n",
       "      <td>$50.76</td>\n",
       "    </tr>\n",
       "    <tr>\n",
       "      <th>145</th>\n",
       "      <th>Fiery Glass Crusader</th>\n",
       "      <td>9</td>\n",
       "      <td>$4.58</td>\n",
       "      <td>$41.22</td>\n",
       "    </tr>\n",
       "    <tr>\n",
       "      <th>108</th>\n",
       "      <th>Extraction, Quickblade Of Trembling Hands</th>\n",
       "      <td>9</td>\n",
       "      <td>$3.53</td>\n",
       "      <td>$31.77</td>\n",
       "    </tr>\n",
       "    <tr>\n",
       "      <th>82</th>\n",
       "      <th>Nirvana</th>\n",
       "      <td>9</td>\n",
       "      <td>$4.90</td>\n",
       "      <td>$44.10</td>\n",
       "    </tr>\n",
       "    <tr>\n",
       "      <th>19</th>\n",
       "      <th>Pursuit, Cudgel of Necromancy</th>\n",
       "      <td>8</td>\n",
       "      <td>$1.02</td>\n",
       "      <td>$8.16</td>\n",
       "    </tr>\n",
       "  </tbody>\n",
       "</table>\n",
       "</div>"
      ],
      "text/plain": [
       "                                                      Purchase Count  \\\n",
       "Item ID Item Name                                                      \n",
       "178     Oathbreaker, Last Hope of the Breaking Storm              12   \n",
       "145     Fiery Glass Crusader                                       9   \n",
       "108     Extraction, Quickblade Of Trembling Hands                  9   \n",
       "82      Nirvana                                                    9   \n",
       "19      Pursuit, Cudgel of Necromancy                              8   \n",
       "\n",
       "                                                     Item Price  \\\n",
       "Item ID Item Name                                                 \n",
       "178     Oathbreaker, Last Hope of the Breaking Storm      $4.23   \n",
       "145     Fiery Glass Crusader                              $4.58   \n",
       "108     Extraction, Quickblade Of Trembling Hands         $3.53   \n",
       "82      Nirvana                                           $4.90   \n",
       "19      Pursuit, Cudgel of Necromancy                     $1.02   \n",
       "\n",
       "                                                     Total Purchase Value  \n",
       "Item ID Item Name                                                          \n",
       "178     Oathbreaker, Last Hope of the Breaking Storm               $50.76  \n",
       "145     Fiery Glass Crusader                                       $41.22  \n",
       "108     Extraction, Quickblade Of Trembling Hands                  $31.77  \n",
       "82      Nirvana                                                    $44.10  \n",
       "19      Pursuit, Cudgel of Necromancy                               $8.16  "
      ]
     },
     "execution_count": 16,
     "metadata": {},
     "output_type": "execute_result"
    }
   ],
   "source": [
    "pop_df = pd.DataFrame({'Item ID': df['Item ID'],\n",
    "                       'Item Name': df['Item Name'],\n",
    "                       'Item Price': df['Price']})\n",
    "\n",
    "grp_pop = pop_df.groupby([\"Item ID\",\"Item Name\"])\n",
    "\n",
    "\n",
    "pop_pur_count = grp_pop['Item Name'].count()\n",
    "item_price = grp_pop['Item Price'].unique()\n",
    "total_pop_val = pop_pur_count * item_price\n",
    "\n",
    "\n",
    "pop_item_tbl = pd.DataFrame({\"Purchase Count\" : pop_pur_count,\n",
    "                                  \"Item Price\" : item_price.astype(float).map(\"${:,.2f}\".format),\n",
    "                                       \"Total Purchase Value\": total_pop_val.astype(float).map(\"${:,.2f}\".format),\n",
    "                                 })\n",
    "\n",
    "pop_sort = pop_item_tbl.sort_values(by='Purchase Count', ascending=False)\n",
    "\n",
    "format_dict = {'Item Price':'${:,.2f}','Total Purchase Value':'${:,.2f}'}\n",
    "\n",
    "pop_sort.style.format(format_dict)\n",
    "pop_sort.head()"
   ]
  },
  {
   "cell_type": "markdown",
   "metadata": {},
   "source": [
    "## Most Profitable Items"
   ]
  },
  {
   "cell_type": "markdown",
   "metadata": {},
   "source": [
    "* Sort the above table by total purchase value in descending order\n",
    "\n",
    "\n",
    "* Optional: give the displayed data cleaner formatting\n",
    "\n",
    "\n",
    "* Display a preview of the data frame\n",
    "\n"
   ]
  },
  {
   "cell_type": "code",
   "execution_count": 17,
   "metadata": {
    "scrolled": true
   },
   "outputs": [
    {
     "data": {
      "text/html": [
       "<div>\n",
       "<style scoped>\n",
       "    .dataframe tbody tr th:only-of-type {\n",
       "        vertical-align: middle;\n",
       "    }\n",
       "\n",
       "    .dataframe tbody tr th {\n",
       "        vertical-align: top;\n",
       "    }\n",
       "\n",
       "    .dataframe thead th {\n",
       "        text-align: right;\n",
       "    }\n",
       "</style>\n",
       "<table border=\"1\" class=\"dataframe\">\n",
       "  <thead>\n",
       "    <tr style=\"text-align: right;\">\n",
       "      <th></th>\n",
       "      <th></th>\n",
       "      <th>Purchase Count</th>\n",
       "      <th>Item Price</th>\n",
       "      <th>Total Purchase Value</th>\n",
       "    </tr>\n",
       "    <tr>\n",
       "      <th>Item ID</th>\n",
       "      <th>Item Name</th>\n",
       "      <th></th>\n",
       "      <th></th>\n",
       "      <th></th>\n",
       "    </tr>\n",
       "  </thead>\n",
       "  <tbody>\n",
       "    <tr>\n",
       "      <th>178</th>\n",
       "      <th>Oathbreaker, Last Hope of the Breaking Storm</th>\n",
       "      <td>12</td>\n",
       "      <td>$4.23</td>\n",
       "      <td>50.76</td>\n",
       "    </tr>\n",
       "    <tr>\n",
       "      <th>82</th>\n",
       "      <th>Nirvana</th>\n",
       "      <td>9</td>\n",
       "      <td>$4.90</td>\n",
       "      <td>44.10</td>\n",
       "    </tr>\n",
       "    <tr>\n",
       "      <th>145</th>\n",
       "      <th>Fiery Glass Crusader</th>\n",
       "      <td>9</td>\n",
       "      <td>$4.58</td>\n",
       "      <td>41.22</td>\n",
       "    </tr>\n",
       "    <tr>\n",
       "      <th>92</th>\n",
       "      <th>Final Critic</th>\n",
       "      <td>8</td>\n",
       "      <td>$4.88</td>\n",
       "      <td>39.04</td>\n",
       "    </tr>\n",
       "    <tr>\n",
       "      <th>103</th>\n",
       "      <th>Singed Scalpel</th>\n",
       "      <td>8</td>\n",
       "      <td>$4.35</td>\n",
       "      <td>34.80</td>\n",
       "    </tr>\n",
       "  </tbody>\n",
       "</table>\n",
       "</div>"
      ],
      "text/plain": [
       "                                                      Purchase Count  \\\n",
       "Item ID Item Name                                                      \n",
       "178     Oathbreaker, Last Hope of the Breaking Storm              12   \n",
       "82      Nirvana                                                    9   \n",
       "145     Fiery Glass Crusader                                       9   \n",
       "92      Final Critic                                               8   \n",
       "103     Singed Scalpel                                             8   \n",
       "\n",
       "                                                     Item Price  \\\n",
       "Item ID Item Name                                                 \n",
       "178     Oathbreaker, Last Hope of the Breaking Storm      $4.23   \n",
       "82      Nirvana                                           $4.90   \n",
       "145     Fiery Glass Crusader                              $4.58   \n",
       "92      Final Critic                                      $4.88   \n",
       "103     Singed Scalpel                                    $4.35   \n",
       "\n",
       "                                                      Total Purchase Value  \n",
       "Item ID Item Name                                                           \n",
       "178     Oathbreaker, Last Hope of the Breaking Storm                 50.76  \n",
       "82      Nirvana                                                      44.10  \n",
       "145     Fiery Glass Crusader                                         41.22  \n",
       "92      Final Critic                                                 39.04  \n",
       "103     Singed Scalpel                                               34.80  "
      ]
     },
     "execution_count": 17,
     "metadata": {},
     "output_type": "execute_result"
    }
   ],
   "source": [
    "pop_df = pd.DataFrame({'Item ID': df['Item ID'],\n",
    "                       'Item Name': df['Item Name'],\n",
    "                       'Item Price': df['Price']})\n",
    "\n",
    "grp_pop = pop_df.groupby([\"Item ID\",\"Item Name\"])\n",
    "\n",
    "\n",
    "pop_pur_count = grp_pop['Item Name'].count()\n",
    "item_price = pop_item_tbl['Item Price']\n",
    "total_pop_val = grp_pop['Item Price'].sum()\n",
    "\n",
    "\n",
    "pro_item_tbl = pd.DataFrame({\"Purchase Count\" : pop_pur_count,\n",
    "                                  \"Item Price\" : item_price,\n",
    "                                       \"Total Purchase Value\": total_pop_val,\n",
    "                                 })\n",
    "\n",
    "\n",
    "format_dict = {'Item Price':'${:,.2f}','Total Purchase Value':'${:,.2f}'}\n",
    "pro_sort = pro_item_tbl.sort_values(by = \"Total Purchase Value\", ascending=False)\n",
    "pro_sort.style.format(format_dict)\n",
    "pro_sort.head()"
   ]
  },
  {
   "cell_type": "code",
   "execution_count": null,
   "metadata": {},
   "outputs": [],
   "source": []
  }
 ],
 "metadata": {
  "anaconda-cloud": {},
  "kernel_info": {
   "name": "python3"
  },
  "kernelspec": {
   "display_name": "Python 3",
   "language": "python",
   "name": "python3"
  },
  "language_info": {
   "codemirror_mode": {
    "name": "ipython",
    "version": 3
   },
   "file_extension": ".py",
   "mimetype": "text/x-python",
   "name": "python",
   "nbconvert_exporter": "python",
   "pygments_lexer": "ipython3",
   "version": "3.7.4"
  },
  "latex_envs": {
   "LaTeX_envs_menu_present": true,
   "autoclose": false,
   "autocomplete": true,
   "bibliofile": "biblio.bib",
   "cite_by": "apalike",
   "current_citInitial": 1,
   "eqLabelWithNumbers": true,
   "eqNumInitial": 1,
   "hotkeys": {
    "equation": "Ctrl-E",
    "itemize": "Ctrl-I"
   },
   "labels_anchors": false,
   "latex_user_defs": false,
   "report_style_numbering": false,
   "user_envs_cfg": false
  },
  "nteract": {
   "version": "0.2.0"
  }
 },
 "nbformat": 4,
 "nbformat_minor": 4
}
